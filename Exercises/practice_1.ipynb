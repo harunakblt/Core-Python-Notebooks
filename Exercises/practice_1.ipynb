{
 "cells": [
  {
   "cell_type": "markdown",
   "metadata": {},
   "source": [
    "**1. Kişisel Görev Yöneticisi:** Kullanıcıların kişisel görev listelerini oluşturmasına, görev eklemesine, silmesine ve güncellemesine izin veren bir uygulama. Kullanıcılar görevleri listeye ekleyebilir, tamamlandıklarında listeden kaldırabilir veya görevlerin öncelik sırasını değiştirebilir."
   ]
  },
  {
   "cell_type": "code",
   "execution_count": null,
   "metadata": {},
   "outputs": [],
   "source": [
    "tasks = []\n",
    "\n",
    "tasks.append(input(\"Lütfen bir görev giriniz:\"))\n",
    "tasks.append(input(\"Lütfen bir görev giriniz:\"))\n",
    "tasks.append(input(\"Lütfen bir görev giriniz:\"))\n",
    "\n",
    "# Görevleri listeleme\n",
    "\n",
    "if tasks:\n",
    "    print(\"Görevler:\")\n",
    "    print(tasks)\n",
    "else:\n",
    "    print(\"Liste boş.\")\n",
    "    \n",
    "# Görevlerin öncelik sırasını değiştirme\n",
    "\n",
    "if len(tasks) >= 3:\n",
    "    task_to_move = tasks.pop(0)\n",
    "    tasks.insert(2, task_to_move)\n",
    "    \n",
    "    \n",
    "# Görevleri listeleme\n",
    "\n",
    "if tasks:\n",
    "    print(\"\\nÖncelik değiştirdikten sonraki görevler:\")\n",
    "    print(tasks)\n",
    "else:\n",
    "    print(\"Liste boş.\")\n",
    "    \n",
    "a = input(\"Tamamlayacağınız görevin numarasını giriniz (ÖR:1, 2, 3 gibi): \")\n",
    "b = tasks[int(a)-1]\n",
    "\n",
    "tasks.remove(b)\n",
    "\n",
    "print(f\"\\n{b} tamamlandı!\")\n",
    "\n",
    "\n",
    "# Görevleri listeleme\n",
    "\n",
    "if tasks:\n",
    "    print(f\"\\n{b} tamamlandıktan sonraki görevler:\")\n",
    "    print(tasks)\n",
    "else:\n",
    "    print(\"Liste boş.\")"
   ]
  },
  {
   "cell_type": "markdown",
   "metadata": {},
   "source": [
    "**2. Sınav/Ödev Takip Uygulaması:** Öğrencilerin sınav tarihlerini, ödevlerini ve projelerini listelemesine ve takip etmesine olanak tanıyan bir uygulama. Öğrenciler, sınavları ve ödevleri listeye ekleyebilir, son teslim tarihlerini belirleyebilir ve tamamlandıkça işaretleyebilir."
   ]
  },
  {
   "cell_type": "code",
   "execution_count": null,
   "metadata": {},
   "outputs": [],
   "source": [
    "tasks = []\n",
    "\n",
    "# listeye ödeve ve sınav ekleyelim\n",
    "tasks.append([\"Matematik Sınavı\", \"2024-06-30\", False])\n",
    "tasks.append([\"Fizik Ödevi\", \"2024-07-30\", False])\n",
    "tasks.append([\"Kimya Projesi\", \"2024-08-30\", False])\n",
    "\n",
    "# sınav ve ödev listesini görüntüleme\n",
    "print(\"Sınav ve ödev listesi:\")\n",
    "print(f\"1. Görev: {tasks[0][0]}, Son Teslim Tarihi: {tasks[0][1]}, Tamamlandı: {tasks[0][2]}\")\n",
    "print(f\"2. Görev: {tasks[1][0]}, Son Teslim Tarihi: {tasks[1][1]}, Tamamlandı: {tasks[1][2]}\")\n",
    "print(f\"3. Görev: {tasks[2][0]}, Son Teslim Tarihi: {tasks[2][1]}, Tamamlandı: {tasks[2][2]}\")\n",
    "\n",
    "# Görevi tamamlanmış olarak işaretleme\n",
    "tasks[1][2] = True\n",
    "\n",
    "# Güncellenmiş sınav ve ödev listesini görüntüleme\n",
    "print(\"\\nGüncellenmiş sınav ve ödev listesi:\")\n",
    "print(f\"1. Görev: {tasks[0][0]}, Son Teslim Tarihi: {tasks[0][1]}, Tamamlandı: {tasks[0][2]}\")\n",
    "print(f\"2. Görev: {tasks[1][0]}, Son Teslim Tarihi: {tasks[1][1]}, Tamamlandı: {tasks[1][2]}\")\n",
    "print(f\"3. Görev: {tasks[2][0]}, Son Teslim Tarihi: {tasks[2][1]}, Tamamlandı: {tasks[2][2]}\")\n",
    "\n",
    "\n",
    "# Göreve Arama\n",
    "search_task = \"Kimya Projesi\"\n",
    "found_task = None\n",
    "\n",
    "if tasks[0][0] == search_task:\n",
    "    found_task = tasks[0]\n",
    "elif tasks[1][0] == search_task:\n",
    "    found_task = tasks[1]\n",
    "elif tasks[2][0] == search_task:\n",
    "    found_task = tasks[2]\n",
    "    \n",
    "    \n",
    "# Arama sonuçlarını yazdırma\n",
    "if found_task:\n",
    "    print(\"\\nArama Sonuçları:\")\n",
    "    print(\"---------------------------------\")\n",
    "    print(f\"Görev: {found_task[0]}, Son Teslim Tarihi: {found_task[1]}, Tamamandı: {found_task[2]}\")\n",
    "else:\n",
    "    print(\"\\nAranan görev bulunamadı.\")\n",
    "    \n",
    "# Görev güncelleme (Matematik sınavı STT değiştirme)\n",
    "tasks[0][1] = \"2024-07-02\"\n",
    "\n",
    "# Güncellenmiş sınav ve ödev listesini görüntüleme\n",
    "print(\"\\nGüncellenmiş sınav ve ödev listesi:\")\n",
    "print(f\"1. Görev: {tasks[0][0]}, Son Teslim Tarihi: {tasks[0][1]}, Tamamlandı: {tasks[0][2]}\")\n",
    "print(f\"2. Görev: {tasks[1][0]}, Son Teslim Tarihi: {tasks[1][1]}, Tamamlandı: {tasks[1][2]}\")\n",
    "print(f\"3. Görev: {tasks[2][0]}, Son Teslim Tarihi: {tasks[2][1]}, Tamamlandı: {tasks[2][2]}\")\n",
    "    "
   ]
  },
  {
   "cell_type": "markdown",
   "metadata": {},
   "source": [
    "**3. Öğrenci Başarı Takip Sistemi:**\n",
    "\n",
    "Bir okul yönetimi, öğrencilerin ders başarılarını izlemek ve kaydetmek için bir sistem oluşturmak istiyor. Bu sistem, öğrencilerin aldıkları dersleri ve bu derslerde elde ettikleri notları saklayacak.\n",
    "\n",
    "Her öğrenci için, hangi dersi aldıkları ve bu derslerde aldıkları notlar sisteme tuple'lar aracılığıyla kaydedilecek. Örneğin, bir öğrencinin \"Matematik\" dersinden 85, \"Biyoloji\" dersinden ise 70 aldığı kaydedilecek.\n",
    "\n",
    "Bu sistem, öğrencilerin akademik performansını değerlendirmek, öğretmenlerin öğrenci başarılarını izlemek ve gerekli durumlarda öğrencilere yardımcı olmak için kullanılabilir. Ayrıca, dönem sonlarında sınıf geçme durumunu belirlemek ve öğrencilere rehberlik hizmetleri sağlamak için de kullanılabilir."
   ]
  },
  {
   "cell_type": "code",
   "execution_count": null,
   "metadata": {},
   "outputs": [],
   "source": [
    "math_grade = (\"Matematik\", \n",
    "              [float(input(\"Matematik 1. Yazılı Notunu Girin:\")), \n",
    "               float(input(\"Matematik 2. Yazılı Notunu Girin:\")), \n",
    "               float(input(\"Matematik 3. Yazılı Notunu Girin:\"))])\n",
    "biology_grade = (\"Biyoloji\", \n",
    "                 [float(input(\"Biyoloji 1. Yazılı Notunu Girin:\")), \n",
    "                  float(input(\"Biyoloji 2. Yazılı Notunu Girin:\")), \n",
    "                  float(input(\"Biyoloji 3. Yazılı Notunu Girin:\"))])\n",
    "history_grade = (\"Tarih\", \n",
    "                 [float(input(\"Tarih 1. Yazılı Notunu Girin:\")), \n",
    "                  float(input(\"Tarih 2. Yazılı Notunu Girin:\")), \n",
    "                  float(input(\"Tarih 3. Yazılı Notunu Girin:\"))])\n",
    "\n",
    "# sınav notlarının ortalamasını bulma\n",
    "math_grade[1].append((sum(math_grade[1]) / len(math_grade[1])))\n",
    "biology_grade[1].append((sum(biology_grade[1]) / len(biology_grade[1])))\n",
    "history_grade[1].append((sum(history_grade[1]) / len(history_grade[1])))\n",
    "\n",
    "# Öğrencinin aldığı dersleri ve notunu ve geçip geçmediğini ekrana yazdır\n",
    "\n",
    "if math_grade[1][-1] > 70:\n",
    "    math = \"Geçti\"\n",
    "else:\n",
    "    math = \"Kaldı\"\n",
    "\n",
    "print(f\"{math_grade[0]} Ders Notu: {math_grade[1][-1]}, {math}\")\n",
    "print(f\"{biology_grade[0]} Ders Notu: {biology_grade[1][-1]}\", \"Geçti\" if biology_grade[1][-1] > 70 else \"Kaldı\")\n",
    "print(f\"{history_grade[0]} Ders Notu: {history_grade[1][-1]}\", \"Geçti\" if history_grade[1][-1] > 70 else \"Kaldı\")"
   ]
  },
  {
   "cell_type": "markdown",
   "metadata": {},
   "source": [
    "**4. Coğrafi Konum Bilgileri:** Bir harita uygulaması, kullanıcıların sık kullandıkları ve kaydetmek istedikleri konumları yönetmelerine olanak tanıyan bir sistem geliştirmek istiyor. Bu sistem, kullanıcıların belirli konumları adları ve koordinatlarıyla birlikte kaydedebilmesini sağlayacak.\n",
    "\n",
    "Örneğin, bir kullanıcı evinin ve iş yerinin konumlarını kaydetmek isteyebilir. Bu durumda, kullanıcı \"Ev\" ve \"İş\" isimleriyle birlikte bu konumların enlem ve boylam koordinatlarını sisteme girecek. Konum bilgileri tuple veri yapısı kullanılarak saklanacaktır. Örnek olarak, (\"Ev\", (40.7128, -74.0060)) ve (\"İş\", (51.5074, -0.1278)) gibi tuple'lar kullanılacaktır.\n",
    "\n",
    "Bu sistem aşağıdaki durumlara çözüm üretebilmelidir:\n",
    "\n",
    "    Kullanıcıların farklı konumları adları ve koordinatlarıyla birlikte kaydedebilmesi.\n",
    "    Kaydedilmiş konumların adları ve koordinatlarının görüntülenebilmesi.\n",
    "    Gerektiğinde belirli bir konumun güncellenebilmesi (örneğin, iş yerinin adresi değişirse).\n",
    "    İstenilen konumların listeden silinebilmesi.\n",
    "\n",
    "Bu sistem, kullanıcıların günlük hayatlarında önemli yerleri hızlıca bulmalarına, adresleri hatırlamalarına ve ihtiyaç duyduklarında konumlarını kolayca yönetmelerine yardımcı olacaktır."
   ]
  },
  {
   "cell_type": "code",
   "execution_count": null,
   "metadata": {},
   "outputs": [],
   "source": [
    "location_data = (\n",
    "    (\"Ev\", (40.7128, -74.0060)),\n",
    "    (\"İş\", (51.5074, -0.1278)),\n",
    "    (\"Okul\", (34.0522, -118.2437)),\n",
    "    (\"Park\", (48.8566, 2.3522))\n",
    ")\n",
    "\n",
    "# Konumları Görüntüleme\n",
    "\n",
    "print(\"Kaydedilmiş Konumlar:\")\n",
    "print(f\"1. Konum: {location_data[0][0]}, Koordinatlar: {location_data[0][1]}\")\n",
    "print(f\"2. Konum: {location_data[1][0]}, Koordinatlar: {location_data[1][1]}\")\n",
    "print(f\"3. Konum: {location_data[2][0]}, Koordinatlar: {location_data[2][1]}\")\n",
    "print(f\"4. Konum: {location_data[3][0]}, Koordinatlar: {location_data[3][1]}\")\n",
    "\n",
    "\n",
    "# Yeni bir konum ekleme\n",
    "\n",
    "new_location_data = location_data + ((\"Kütüphane\", (37.7749, -122.4194)),)\n",
    "\n",
    "# Güncellenmiş Konumları Görüntüleme\n",
    "\n",
    "print(\"\\n Yeni Konum Eklendikten Sonra Konumlar:\")\n",
    "print(f\"1. Konum: {new_location_data[0][0]}, Koordinatlar: {new_location_data[0][1]}\")\n",
    "print(f\"2. Konum: {new_location_data[1][0]}, Koordinatlar: {new_location_data[1][1]}\")\n",
    "print(f\"3. Konum: {new_location_data[2][0]}, Koordinatlar: {new_location_data[2][1]}\")\n",
    "print(f\"4. Konum: {new_location_data[3][0]}, Koordinatlar: {new_location_data[3][1]}\")\n",
    "print(f\"5. Konum: {new_location_data[4][0]}, Koordinatlar: {new_location_data[4][1]}\")\n",
    "\n",
    "\n",
    "# Mevcut bir konumu güncelleme (İş konumu)\n",
    "\n",
    "updated_location_data = (new_location_data[0], \n",
    "                         (\"Yeni iş\", (51.509865, -0.118092)), \n",
    "                         new_location_data[2], \n",
    "                         new_location_data[3], \n",
    "                         new_location_data[4])\n",
    "\n",
    "\n",
    "# İş Konumu Güncellenmiş Konumları Görüntüleme\n",
    "\n",
    "print(\"\\n İş Konumu Güncellendikten Sonra Konumlar:\")\n",
    "print(f\"1. Konum: {updated_location_data[0][0]}, Koordinatlar: {updated_location_data[0][1]}\")\n",
    "print(f\"2. Konum: {updated_location_data[1][0]}, Koordinatlar: {updated_location_data[1][1]}\")\n",
    "print(f\"3. Konum: {updated_location_data[2][0]}, Koordinatlar: {updated_location_data[2][1]}\")\n",
    "print(f\"4. Konum: {updated_location_data[3][0]}, Koordinatlar: {updated_location_data[3][1]}\")\n",
    "print(f\"5. Konum: {updated_location_data[4][0]}, Koordinatlar: {updated_location_data[4][1]}\")"
   ]
  },
  {
   "cell_type": "markdown",
   "metadata": {},
   "source": [
    "**5. Alışveriş Listesi**\n",
    "\n",
    "Senaryo: Bir market alışverişi yapıyorsunuz ve ürünlerin fiyatlarını takip etmek istiyorsunuz.\n",
    "\n",
    "**Talimatlar:**<br>\n",
    "Aşağıdaki gibi bir sözlük oluşturun:\n",
    "\n",
    "```python\n",
    "\n",
    "alisveris_listesi = {\n",
    "    \"elma\": 3.5,\n",
    "    \"ekmek\": 2.0,\n",
    "    \"süt\": 4.0\n",
    "}\n",
    "```\n",
    "\n",
    "* Alışveriş listenize \"yumurta\" ekleyin ve fiyatını 5.0 olarak belirleyin.\n",
    "* \"elma\"nın fiyatını 4.0 olarak güncelleyin.\n",
    "* Alışveriş listenizdeki \"ekmek\" ürününü kaldırın.\n",
    "* Güncellenmiş alışveriş listesini yazdırın."
   ]
  },
  {
   "cell_type": "code",
   "execution_count": null,
   "metadata": {},
   "outputs": [],
   "source": [
    "alisveris_listesi = {\n",
    "    \"elma\": 3.5,\n",
    "    \"ekmek\": 2.0,\n",
    "    \"süt\": 4.0\n",
    "}\n",
    "\n",
    "alisveris_listesi[\"yumurta\"] = 5.0\n",
    "\n",
    "alisveris_listesi[\"elma\"] = 4.0\n",
    "\n",
    "alisveris_listesi.pop(\"ekmek\")\n",
    "\n",
    "print(alisveris_listesi)"
   ]
  },
  {
   "cell_type": "markdown",
   "metadata": {},
   "source": [
    "**6. Film Listesi**\n",
    "\n",
    "Senaryo: Bir sinema salonu, gösterimde olan filmlerin türlerini ve seans saatlerini takip etmek istiyor.\n",
    "\n",
    "**Talimatlar:**<br>\n",
    "Aşağıdaki gibi bir sözlük oluşturun:\n",
    "\n",
    "```python\n",
    "\n",
    "film_listesi = {\n",
    "    \"Inception\": {\"tur\": \"Bilim Kurgu\", \"seans_saati\": \"15:00\"},\n",
    "    \"The Godfather\": {\"tur\": \"Dram\", \"seans_saati\": \"18:00\"},\n",
    "    \"Pulp Fiction\": {\"tur\": \"Suç\", \"seans_saati\": \"21:00\"}\n",
    "}\n",
    "```\n",
    "\n",
    "* \"Interstellar\" adında yeni bir film ekleyin, türü \"Bilim Kurgu\" ve seans saati 17:00 olarak belirleyin.\n",
    "* \"Inception\" filminin seans saatini 16:00 olarak güncelleyin.\n",
    "* Film \"The Godfather\"ı sözlükten kaldırın.\n",
    "* Güncellenmiş film listesini yazdırın."
   ]
  },
  {
   "cell_type": "code",
   "execution_count": 2,
   "metadata": {},
   "outputs": [
    {
     "name": "stdout",
     "output_type": "stream",
     "text": [
      "{'Inception': {'tur': 'Dram', 'seans_saati': '18:00'}, 'Pulp Fiction': {'tur': 'Suç', 'seans_saati': '21:00'}, 'Interstellar': {'tur': 'Bilim Kurgu', 'seans_saati': '18:00'}}\n"
     ]
    }
   ],
   "source": [
    "film_listesi = {\n",
    "    \"Inception\": {\"tur\": \"Bilim Kurgu\", \"seans_saati\": \"15:00\"},\n",
    "    \"The Godfather\": {\"tur\": \"Dram\", \"seans_saati\": \"18:00\"},\n",
    "    \"Pulp Fiction\": {\"tur\": \"Suç\", \"seans_saati\": \"21:00\"}\n",
    "}\n",
    "\n",
    "film_listesi[\"Interstellar\"] = {\"tur\": \"Bilim Kurgu\", \"seans_saati\": \"17.00\"}\n",
    "\n",
    "film_listesi[\"Inception\"][\"seans_saati\"] = \"16:00\"\n",
    "\n",
    "film_listesi.pop(\"The Godfather\")\n",
    "\n",
    "print(film_listesi)"
   ]
  },
  {
   "cell_type": "markdown",
   "metadata": {},
   "source": [
    "**7. Müşteri Siparişlerini Yönetme**\n",
    "\n",
    "***Sorun İfadesi:***\n",
    "\n",
    "Bir kafede çalışıyorsunuz ve müşteri siparişlerini düzenli bir şekilde takip etmeniz gerekiyor. Her siparişin müşteri adı, sipariş edilen ürün ve ürünün fiyatını içermesi gerekiyor.\n",
    "\n",
    "***Senaryo:***\n",
    "\n",
    "Bir müşteri, üç farklı ürün siparişi veriyor. Bu ürünler arasında kahve, sandviç ve kek bulunuyor. Her ürünün fiyatı farklı ve bu bilgileri saklayarak müşterinin toplam borcunu hesaplamak istiyorsunuz.\n",
    "\n",
    "***Talimatlar:***\n",
    "\n",
    "* Öncelikle, müşteri adı, sipariş edilen ürünler ve bu ürünlerin fiyatlarını içeren bir Python sözlüğü oluşturun. \n",
    "* Ardından, bu bilgileri kullanarak müşterinin toplam borcunu hesaplayın ve ekrana yazdırın."
   ]
  },
  {
   "cell_type": "code",
   "execution_count": null,
   "metadata": {},
   "outputs": [],
   "source": [
    "siparis = {\n",
    "    \"isim\": \"Ahmet Yılmaz\",\n",
    "    \"urunler\": {\n",
    "        \"kahve\": 10,\n",
    "        \"sandviç\": 20,\n",
    "        \"kek\": 15\n",
    "    }\n",
    "}\n",
    "\n",
    "toplam_borc = sum(siparis[\"urunler\"].values())\n",
    "\n",
    "print(f\"Müşteri: {siparis['isim']}\")\n",
    "print(f\"Toplam Borç: {toplam_borc} $\")"
   ]
  },
  {
   "cell_type": "markdown",
   "metadata": {},
   "source": [
    "**8.\tAnagram Kontrolcü**\n",
    "\n",
    "Sorun: Verilen iki kelimenin birbirinin anagramı olup olmadığını kontrol edin.\n",
    "\n",
    "Görev: İki kelime alın, bu kelimelerin birbirinin anagramı olup olmadığını belirleyin ve sonucu kullanıcıya gösterin.\n",
    "\n",
    "\n",
    "**Not:** Anagram, bir kelimenin veya ifadenin harflerinin sıralanarak başka bir kelime veya ifade oluşturulması işlemidir. Anagram oluştururken her harfin kullanım sıklığı ve kelime veya ifade içindeki yerleşimi korunur, sadece harflerin sırası değişir.\n",
    "\n",
    "\n",
    "Örnek:\n",
    "\n",
    "        \"listen\" kelimesinin anagramı \"silent\"tir.<br>\n",
    "        \"debit card\" ifadesinin anagramı \"bad credit\"tir.<br>\n",
    "        \"astronomer\" kelimesinin anagramı \"moon starer\"tir.<br>\n",
    "\n"
   ]
  },
  {
   "cell_type": "code",
   "execution_count": null,
   "metadata": {},
   "outputs": [],
   "source": [
    "kelime1 = input(\"Anagramı kontrol edilecek kelime giriniz:\").lower()\n",
    "kelime2 = input(\"Anagramı kontrol edilecek başak bir kelime giriniz:\").lower()\n",
    "\n",
    "set_kelime1 = set(kelime1)\n",
    "set_kelime2 = set(kelime2)\n",
    "\n",
    "if len(kelime1) == len(kelime2) and set_kelime1 == set_kelime2:\n",
    "    print(f\"{kelime1} ve {kelime2} birbirinin anagramıdır.\")\n",
    "else:\n",
    "    print(f\"{kelime1} ve {kelime2} birbirinin anagramı değildir.\")"
   ]
  },
  {
   "cell_type": "markdown",
   "metadata": {},
   "source": [
    "**9.\tKümelerin Birleşimi**\n",
    "\n",
    "Sorun: İki kümenin birleşimini bulun.\n",
    "\n",
    "Görev: İki küme alın, bu iki kümenin birleşimini bulun ve kullanıcıya gösterin.\n",
    "\n",
    "Örnek: {1, 2, 3} ve {3, 4, 5} -> {1, 2, 3, 4, 5}"
   ]
  },
  {
   "cell_type": "code",
   "execution_count": null,
   "metadata": {},
   "outputs": [],
   "source": [
    "kume1 = {1, 2, 3}\n",
    "kume2 = {3, 4, 5}\n",
    "\n",
    "birlesim = kume1.union(kume2)\n",
    "\n",
    "print(\"Birleşim kümesi:\", birlesim) "
   ]
  },
  {
   "cell_type": "markdown",
   "metadata": {},
   "source": [
    "**10.\tAlt Küme Kontrolcü**\n",
    "\n",
    "Sorun: Bir kümenin diğer bir kümenin alt kümesi olup olmadığını kontrol edin.\n",
    "\n",
    "Görev: İki küme alın, birinin diğerinin alt kümesi olup olmadığını belirleyin ve sonucu kullanıcıya gösterin.\n",
    "\n",
    "Örnek: {1, 2} ve {1, 2, 3, 4} -> True\n"
   ]
  },
  {
   "cell_type": "code",
   "execution_count": 3,
   "metadata": {},
   "outputs": [
    {
     "name": "stdout",
     "output_type": "stream",
     "text": [
      "kume1, kume1'nin alt kümesi mi?: True\n"
     ]
    }
   ],
   "source": [
    "kume1 = {1, 2}\n",
    "kume2 = {1, 2, 3, 4}\n",
    "\n",
    "alt_kume_mi = kume1.issubset(kume2)\n",
    "\n",
    "print(\"kume1, kume1'nin alt kümesi mi?:\", alt_kume_mi)"
   ]
  },
  {
   "cell_type": "markdown",
   "metadata": {},
   "source": [
    "**11. Not Defteri Uygulaması:** \n",
    "\n",
    "Kullanıcıların metin notlarını düzenlemesine, saklamasına ve aramasına olanak tanıyan bir uygulama. Kullanıcılar notları listeye ekleyebilir, kategorize edebilir ve anahtar kelimelerle arayabilir."
   ]
  },
  {
   "cell_type": "code",
   "execution_count": null,
   "metadata": {},
   "outputs": [],
   "source": [
    "notes = []\n",
    "\n",
    "# listeye not ekleme\n",
    "notes.append([\"Alışveriş Listesi\", \"Market alışverişi için alınacaklar: süt, ekmek ve yumurta\"])\n",
    "notes.append([\"Toplantı Notları\", \"Pazartesi günü yapılacak toplantı gündemi: proje durumu, bütçe onayı, yeni görev dağılımı\"])\n",
    "notes.append([\"Kişisel Notlar\", \"Spor salonu üyeliğini yenile, dişçi randevusu al\"])\n",
    "\n",
    "# Not listesini görüntüleme\n",
    "\n",
    "print(\"Not Listesi:\")\n",
    "print(f\"1. Kategori: {notes[0][0]}, Not: {notes[0][1]}\")\n",
    "print(f\"2. Kategori: {notes[1][0]}, Not: {notes[1][1]}\")\n",
    "print(f\"3. Kategori: {notes[2][0]}, Not: {notes[2][1]}\")\n",
    "\n",
    "\n",
    "search_keyword = \"toplantı\"\n",
    "found_note = None\n",
    "\n",
    "if search_keyword in notes[0][1]:\n",
    "    found_note = notes[0]\n",
    "elif search_keyword in notes[1][1]:\n",
    "    found_note = notes[1]\n",
    "elif search_keyword in notes[2][1]:\n",
    "    found_note = notes[2]\n",
    "    \n",
    "    \n",
    "# Arama sonuçları\n",
    "if found_note:\n",
    "    print(\"\\nArama Sonuçları:\")\n",
    "    print(f\"Kategori: {found_note[0]}, Not: {found_note[1]}\")\n",
    "    \n",
    "    \n",
    "# Notu Güncelleme (Alışveriş listesi notunu güncelle)\n",
    "\n",
    "notes[0][1] = \"Market alışverişi için alınacaklar: süt, ekmek, yumurta, peynir\"\n",
    "\n",
    "# Güncellenmiş Not listesini görüntüleme\n",
    "\n",
    "print(\"\\n Güncellenmiş Not Listesi:\")\n",
    "print(f\"1. Kategori: {notes[0][0]}, Not: {notes[0][1]}\")\n",
    "print(f\"2. Kategori: {notes[1][0]}, Not: {notes[1][1]}\")\n",
    "print(f\"3. Kategori: {notes[2][0]}, Not: {notes[2][1]}\")"
   ]
  },
  {
   "cell_type": "markdown",
   "metadata": {},
   "source": [
    "**12. Finansal Takip ve Bütçe Yönetimi:** \n",
    "\n",
    "Kişisel finansal verileri saklamak ve yönetmek için listeleri kullanabileceğiniz bir uygulama. Kullanıcılar gelir ve giderleri listeler halinde tutabilir, bütçe hesaplamaları yapabilir ve harcamalarını izleyebilir."
   ]
  },
  {
   "cell_type": "code",
   "execution_count": null,
   "metadata": {},
   "outputs": [],
   "source": []
  },
  {
   "cell_type": "markdown",
   "metadata": {},
   "source": [
    "**13. Online Mağaza Ürün Kataloğu:**\n",
    "\n",
    "Bir online mağaza, müşterilere sunulan ürünlerin kataloğunu yönetmek için bir sistem geliştirmek istiyor. Bu sistem, her bir ürünün adını, fiyatını ve stok durumunu içeren tuple'lar aracılığıyla ürün kataloğunu saklayacak.\n",
    "\n",
    "Her ürün için, adı, fiyatı ve mevcut stok miktarı sisteme tuple olarak kaydedilecek. Örneğin, bir kalem için adı \"Kalem\", fiyatı 2.5 birim para ve stok durumu 100 adet olarak kaydedilecek.\n",
    "\n",
    "Bu sistemde aşağıdaki durumlara da çözüm üretmelidir:\n",
    "\n",
    "1- müşterilerin mağazada sunulan ürünleri görüntülemesine, <br>\n",
    "2- fiyatlarına bakmasına ve <br>\n",
    "3- stok durumunu kontrol etmesine olanak tanımalıdır. <br>\n",
    "4- mağaza yöneticileri için de stok yönetimi ve <br>\n",
    "5- ürünlerin fiyatlarını güncelleme gibi işlemleri yapmalıdır.<br>"
   ]
  },
  {
   "cell_type": "code",
   "execution_count": null,
   "metadata": {},
   "outputs": [],
   "source": []
  }
 ],
 "metadata": {
  "kernelspec": {
   "display_name": "Python 3",
   "language": "python",
   "name": "python3"
  },
  "language_info": {
   "codemirror_mode": {
    "name": "ipython",
    "version": 3
   },
   "file_extension": ".py",
   "mimetype": "text/x-python",
   "name": "python",
   "nbconvert_exporter": "python",
   "pygments_lexer": "ipython3",
   "version": "3.12.3"
  }
 },
 "nbformat": 4,
 "nbformat_minor": 2
}
