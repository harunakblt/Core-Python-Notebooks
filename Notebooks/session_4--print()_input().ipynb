{
 "cells": [
  {
   "cell_type": "markdown",
   "metadata": {},
   "source": [
    "bir kenarı 5 diğer kenarı 12 olan dik üçgenin hipotenünsünü bulan kodları yazın. "
   ]
  },
  {
   "cell_type": "code",
   "execution_count": 1,
   "metadata": {},
   "outputs": [
    {
     "ename": "SyntaxError",
     "evalue": "invalid syntax. Maybe you meant '==' or ':=' instead of '='? (1233627635.py, line 1)",
     "output_type": "error",
     "traceback": [
      "\u001b[1;36m  Cell \u001b[1;32mIn[1], line 1\u001b[1;36m\u001b[0m\n\u001b[1;33m    kenar_1 = 5 , kenar_2 = 12\u001b[0m\n\u001b[1;37m    ^\u001b[0m\n\u001b[1;31mSyntaxError\u001b[0m\u001b[1;31m:\u001b[0m invalid syntax. Maybe you meant '==' or ':=' instead of '='?\n"
     ]
    }
   ],
   "source": [
    "kenar_1 = 5 , kenar_2 = 12"
   ]
  },
  {
   "cell_type": "code",
   "execution_count": 3,
   "metadata": {},
   "outputs": [
    {
     "ename": "SyntaxError",
     "evalue": "cannot assign to expression here. Maybe you meant '==' instead of '='? (1521853094.py, line 3)",
     "output_type": "error",
     "traceback": [
      "\u001b[1;36m  Cell \u001b[1;32mIn[3], line 3\u001b[1;36m\u001b[0m\n\u001b[1;33m    hypo ** 2 = kenar_1 ** 2 + kenar_2 ** 2\u001b[0m\n\u001b[1;37m    ^\u001b[0m\n\u001b[1;31mSyntaxError\u001b[0m\u001b[1;31m:\u001b[0m cannot assign to expression here. Maybe you meant '==' instead of '='?\n"
     ]
    }
   ],
   "source": [
    "kenar_1 , kenar_2 = 5, 12\n",
    "\n",
    "hypo ** 2 = kenar_1 ** 2 + kenar_2 ** 2"
   ]
  },
  {
   "cell_type": "code",
   "execution_count": 4,
   "metadata": {},
   "outputs": [
    {
     "name": "stdout",
     "output_type": "stream",
     "text": [
      "bir kenarı 5 diğer kenarı 12 olan dik üçgenin hipotenüsü: 13.0\n"
     ]
    }
   ],
   "source": [
    "kenar_1 , kenar_2 = 5, 12\n",
    "\n",
    "hypo = (kenar_1 ** 2 + kenar_2 ** 2) ** 0.5\n",
    "\n",
    "print(\"bir kenarı 5 diğer kenarı 12 olan dik üçgenin hipotenüsü:\", hypo)"
   ]
  },
  {
   "cell_type": "code",
   "execution_count": 6,
   "metadata": {},
   "outputs": [
    {
     "name": "stdout",
     "output_type": "stream",
     "text": [
      "bir kenarı 5 diğer kenarı 12 olan dik üçgenin hipotenüsü: 84.5\n"
     ]
    }
   ],
   "source": [
    "kenar_1 , kenar_2 = 5, 12\n",
    "\n",
    "hypo = (kenar_1 ** 2 + kenar_2 ** 2) ** 1 / 2\n",
    "\n",
    "print(\"bir kenarı 5 diğer kenarı 12 olan dik üçgenin hipotenüsü:\", hypo)"
   ]
  },
  {
   "cell_type": "code",
   "execution_count": 7,
   "metadata": {},
   "outputs": [
    {
     "name": "stdout",
     "output_type": "stream",
     "text": [
      "bir kenarı 5 diğer kenarı 12 olan dik üçgenin hipotenüsü: 13.0\n"
     ]
    }
   ],
   "source": [
    "kenar_1 , kenar_2 = 5, 12\n",
    "\n",
    "hypo = (kenar_1 ** 2 + kenar_2 ** 2) ** (1 / 2)\n",
    "\n",
    "print(\"bir kenarı 5 diğer kenarı 12 olan dik üçgenin hipotenüsü:\", hypo)"
   ]
  },
  {
   "cell_type": "code",
   "execution_count": 5,
   "metadata": {},
   "outputs": [
    {
     "name": "stdout",
     "output_type": "stream",
     "text": [
      "bir kenarı 5 diğer kenarı 12 olan dik üçgenin hipotenüsü: 13.92838827718412\n"
     ]
    }
   ],
   "source": [
    "kenar_1 , kenar_2 = 5, 13\n",
    "\n",
    "hypo = (kenar_1 ** 2 + kenar_2 ** 2) ** 0.5\n",
    "\n",
    "print(\"bir kenarı 5 diğer kenarı 12 olan dik üçgenin hipotenüsü:\", hypo)"
   ]
  },
  {
   "cell_type": "markdown",
   "metadata": {},
   "source": [
    "# print()"
   ]
  },
  {
   "cell_type": "code",
   "execution_count": 8,
   "metadata": {},
   "outputs": [
    {
     "name": "stdout",
     "output_type": "stream",
     "text": [
      "Techpro Education\n"
     ]
    }
   ],
   "source": [
    "print(\"Techpro Education\")"
   ]
  },
  {
   "cell_type": "code",
   "execution_count": 9,
   "metadata": {},
   "outputs": [],
   "source": [
    "course = \"Techpro Education\""
   ]
  },
  {
   "cell_type": "code",
   "execution_count": 10,
   "metadata": {},
   "outputs": [
    {
     "name": "stdout",
     "output_type": "stream",
     "text": [
      "Techpro Education\n"
     ]
    }
   ],
   "source": [
    "print(course)"
   ]
  },
  {
   "cell_type": "code",
   "execution_count": 11,
   "metadata": {},
   "outputs": [
    {
     "name": "stdout",
     "output_type": "stream",
     "text": [
      "Sedat Yasin Furkan\n"
     ]
    }
   ],
   "source": [
    "print(\"Sedat\", \"Yasin\", \"Furkan\")"
   ]
  },
  {
   "cell_type": "code",
   "execution_count": 12,
   "metadata": {},
   "outputs": [
    {
     "name": "stdout",
     "output_type": "stream",
     "text": [
      "Sedat Yasin Furkan\n"
     ]
    }
   ],
   "source": [
    "print(\"Sedat\",     \"Yasin\",     \"Furkan\")"
   ]
  },
  {
   "cell_type": "code",
   "execution_count": 13,
   "metadata": {},
   "outputs": [
    {
     "name": "stdout",
     "output_type": "stream",
     "text": [
      "Sedat Yasin Furkan\n"
     ]
    }
   ],
   "source": [
    "print(\"Sedat\",\"Yasin\",\"Furkan\")"
   ]
  },
  {
   "cell_type": "code",
   "execution_count": 14,
   "metadata": {},
   "outputs": [
    {
     "name": "stdout",
     "output_type": "stream",
     "text": [
      "Help on built-in function print in module builtins:\n",
      "\n",
      "print(...)\n",
      "    print(value, ..., sep=' ', end='\\n', file=sys.stdout, flush=False)\n",
      "    \n",
      "    Prints the values to a stream, or to sys.stdout by default.\n",
      "    Optional keyword arguments:\n",
      "    file:  a file-like object (stream); defaults to the current sys.stdout.\n",
      "    sep:   string inserted between values, default a space.\n",
      "    end:   string appended after the last value, default a newline.\n",
      "    flush: whether to forcibly flush the stream.\n",
      "\n"
     ]
    }
   ],
   "source": [
    "help(print)"
   ]
  },
  {
   "cell_type": "code",
   "execution_count": 15,
   "metadata": {},
   "outputs": [
    {
     "name": "stdout",
     "output_type": "stream",
     "text": [
      "Sedat*Yasin*Furkan\n"
     ]
    }
   ],
   "source": [
    "print(\"Sedat\",\"Yasin\",\"Furkan\", sep = \"*\")"
   ]
  },
  {
   "cell_type": "code",
   "execution_count": 16,
   "metadata": {},
   "outputs": [
    {
     "name": "stdout",
     "output_type": "stream",
     "text": [
      "Sedat   Yasin   Furkan\n"
     ]
    }
   ],
   "source": [
    "print(\"Sedat\",\"Yasin\",\"Furkan\", sep = \"   \")"
   ]
  },
  {
   "cell_type": "code",
   "execution_count": 17,
   "metadata": {},
   "outputs": [
    {
     "name": "stdout",
     "output_type": "stream",
     "text": [
      "Sedat-Yasin-Furkan\n"
     ]
    }
   ],
   "source": [
    "print(\"Sedat\",\"Yasin\",\"Furkan\", sep = \"-\")"
   ]
  },
  {
   "cell_type": "code",
   "execution_count": 18,
   "metadata": {},
   "outputs": [
    {
     "name": "stdout",
     "output_type": "stream",
     "text": [
      "Sedat😀Yasin😀Furkan\n"
     ]
    }
   ],
   "source": [
    "print(\"Sedat\",\"Yasin\",\"Furkan\", sep = \"\\U0001F600\")"
   ]
  },
  {
   "cell_type": "code",
   "execution_count": 20,
   "metadata": {},
   "outputs": [
    {
     "ename": "SyntaxError",
     "evalue": "invalid syntax. Perhaps you forgot a comma? (1486865283.py, line 1)",
     "output_type": "error",
     "traceback": [
      "\u001b[1;36m  Cell \u001b[1;32mIn[20], line 1\u001b[1;36m\u001b[0m\n\u001b[1;33m    print(\"Sedat\",\"Yasin\",\"Furkan\" sep = \"\\U0001F600\")\u001b[0m\n\u001b[1;37m                          ^\u001b[0m\n\u001b[1;31mSyntaxError\u001b[0m\u001b[1;31m:\u001b[0m invalid syntax. Perhaps you forgot a comma?\n"
     ]
    }
   ],
   "source": [
    "print(\"Sedat\",\"Yasin\",\"Furkan\" sep = \"\\U0001F600\") # virgül kullanarak ayrım yapmamız şart."
   ]
  },
  {
   "cell_type": "code",
   "execution_count": 21,
   "metadata": {},
   "outputs": [
    {
     "name": "stdout",
     "output_type": "stream",
     "text": [
      "Sedat,Yasin,Furkan\n"
     ]
    }
   ],
   "source": [
    "print(\"Sedat\",\"Yasin\",\"Furkan\", sep = \",\")"
   ]
  },
  {
   "cell_type": "code",
   "execution_count": 22,
   "metadata": {},
   "outputs": [
    {
     "ename": "SyntaxError",
     "evalue": "invalid syntax (783420978.py, line 1)",
     "output_type": "error",
     "traceback": [
      "\u001b[1;36m  Cell \u001b[1;32mIn[22], line 1\u001b[1;36m\u001b[0m\n\u001b[1;33m    print(\"Sedat\",\"Yasin\",\"Furkan\", sep = -)\u001b[0m\n\u001b[1;37m                                           ^\u001b[0m\n\u001b[1;31mSyntaxError\u001b[0m\u001b[1;31m:\u001b[0m invalid syntax\n"
     ]
    }
   ],
   "source": [
    "print(\"Sedat\",\"Yasin\",\"Furkan\", sep = -) # sep in değeri str olmak zorunda"
   ]
  },
  {
   "cell_type": "code",
   "execution_count": 23,
   "metadata": {},
   "outputs": [
    {
     "name": "stdout",
     "output_type": "stream",
     "text": [
      "Cenk\n",
      "Yunus\n",
      "Emrullah\n"
     ]
    }
   ],
   "source": [
    "print(\"Cenk\")\n",
    "print(\"Yunus\")\n",
    "print(\"Emrullah\")"
   ]
  },
  {
   "cell_type": "code",
   "execution_count": 24,
   "metadata": {},
   "outputs": [
    {
     "name": "stdout",
     "output_type": "stream",
     "text": [
      "Help on built-in function print in module builtins:\n",
      "\n",
      "print(...)\n",
      "    print(value, ..., sep=' ', end='\\n', file=sys.stdout, flush=False)\n",
      "    \n",
      "    Prints the values to a stream, or to sys.stdout by default.\n",
      "    Optional keyword arguments:\n",
      "    file:  a file-like object (stream); defaults to the current sys.stdout.\n",
      "    sep:   string inserted between values, default a space.\n",
      "    end:   string appended after the last value, default a newline.\n",
      "    flush: whether to forcibly flush the stream.\n",
      "\n"
     ]
    }
   ],
   "source": [
    "help(print)"
   ]
  },
  {
   "cell_type": "code",
   "execution_count": 26,
   "metadata": {},
   "outputs": [
    {
     "name": "stdout",
     "output_type": "stream",
     "text": [
      "Cenk\n",
      "Yunus\n",
      "Emrullah\n"
     ]
    }
   ],
   "source": [
    "print(\"Cenk\")\n",
    "print(\"Yunus\")\n",
    "print(\"Emrullah\")"
   ]
  },
  {
   "cell_type": "code",
   "execution_count": 25,
   "metadata": {},
   "outputs": [
    {
     "name": "stdout",
     "output_type": "stream",
     "text": [
      "Cenk**Yunus\n",
      "Emrullah\n"
     ]
    }
   ],
   "source": [
    "print(\"Cenk\", end=\"**\")\n",
    "print(\"Yunus\")\n",
    "print(\"Emrullah\")"
   ]
  },
  {
   "cell_type": "code",
   "execution_count": 27,
   "metadata": {},
   "outputs": [
    {
     "name": "stdout",
     "output_type": "stream",
     "text": [
      "Munise!!Yüsra\n"
     ]
    }
   ],
   "source": [
    "print(\"Munise\", end=\"!!\")\n",
    "print(\"Yüsra\")"
   ]
  },
  {
   "cell_type": "code",
   "execution_count": 28,
   "metadata": {},
   "outputs": [
    {
     "name": "stdout",
     "output_type": "stream",
     "text": [
      "Selim!Ali**Gazi\n",
      "Yakup?"
     ]
    }
   ],
   "source": [
    "print(\"Selim\", end=\"!\")\n",
    "print(\"Ali\", \"Gazi\", sep = \"**\")\n",
    "print(\"Yakup\", end= \"?\")"
   ]
  },
  {
   "cell_type": "markdown",
   "metadata": {},
   "source": [
    "## f-string"
   ]
  },
  {
   "cell_type": "code",
   "execution_count": 29,
   "metadata": {},
   "outputs": [
    {
     "name": "stdout",
     "output_type": "stream",
     "text": [
      "bir kenarı 5 diğer kenarı 12 olan dik üçgenin hipotenüsü: 13.0\n"
     ]
    }
   ],
   "source": [
    "kenar_1 , kenar_2 = 5, 12\n",
    "\n",
    "hypo = (kenar_1 ** 2 + kenar_2 ** 2) ** 0.5\n",
    "\n",
    "print(\"bir kenarı 5 diğer kenarı 12 olan dik üçgenin hipotenüsü:\", hypo)"
   ]
  },
  {
   "cell_type": "code",
   "execution_count": 31,
   "metadata": {},
   "outputs": [
    {
     "name": "stdout",
     "output_type": "stream",
     "text": [
      "bir kenarı 8 diğer kenarı 12 olan dik üçgenin hipotenüsü: 14.422205101855956\n"
     ]
    }
   ],
   "source": [
    "kenar_1 , kenar_2 = 8, 12\n",
    "\n",
    "hypo = (kenar_1 ** 2 + kenar_2 ** 2) ** 0.5\n",
    "\n",
    "print(f\"bir kenarı {kenar_1} diğer kenarı {kenar_2} olan dik üçgenin hipotenüsü:\", hypo)"
   ]
  },
  {
   "cell_type": "code",
   "execution_count": 33,
   "metadata": {},
   "outputs": [
    {
     "name": "stdout",
     "output_type": "stream",
     "text": [
      "bir kenarı 8 diğer kenarı 15 olan dik üçgenin hipotenüsü: 17.0\n"
     ]
    }
   ],
   "source": [
    "kenar_1 , kenar_2 = 8, 15\n",
    "\n",
    "hypo = (kenar_1 ** 2 + kenar_2 ** 2) ** 0.5\n",
    "\n",
    "print(f\"bir kenarı {kenar_1} diğer kenarı {kenar_2} olan dik üçgenin hipotenüsü: {hypo}\")"
   ]
  },
  {
   "cell_type": "code",
   "execution_count": 34,
   "metadata": {},
   "outputs": [],
   "source": [
    "name = \"Sedat\"\n",
    "age = 32\n",
    "job = \"data analyst\""
   ]
  },
  {
   "cell_type": "code",
   "execution_count": 35,
   "metadata": {},
   "outputs": [
    {
     "name": "stdout",
     "output_type": "stream",
     "text": [
      "Benim adım:  Sedat yaşım:  32 mesleğim:  data analyst\n"
     ]
    }
   ],
   "source": [
    "print(\"Benim adım: \",name, \"yaşım: \", age, \"mesleğim: \", job)"
   ]
  },
  {
   "cell_type": "code",
   "execution_count": 36,
   "metadata": {},
   "outputs": [
    {
     "name": "stdout",
     "output_type": "stream",
     "text": [
      "Benim adım: Sedat yaşım: 32 mesleğim: data analyst\n"
     ]
    }
   ],
   "source": [
    "print(f\"Benim adım: {name} yaşım: {age} mesleğim: {job}\")"
   ]
  },
  {
   "cell_type": "code",
   "execution_count": 37,
   "metadata": {},
   "outputs": [
    {
     "name": "stdout",
     "output_type": "stream",
     "text": [
      "a ile b nin toplamı: 15\n"
     ]
    }
   ],
   "source": [
    "a = 5\n",
    "b = 10\n",
    "print(f\"a ile b nin toplamı: {a + b}\")"
   ]
  },
  {
   "cell_type": "markdown",
   "metadata": {},
   "source": [
    "## format()"
   ]
  },
  {
   "cell_type": "code",
   "execution_count": 38,
   "metadata": {},
   "outputs": [
    {
     "name": "stdout",
     "output_type": "stream",
     "text": [
      "bir kenarı 8 diğer kenarı 15 olan dik üçgenin hipotenüsü: 17.0\n"
     ]
    }
   ],
   "source": [
    "kenar_1 , kenar_2 = 8, 15\n",
    "\n",
    "hypo = (kenar_1 ** 2 + kenar_2 ** 2) ** 0.5\n",
    "\n",
    "print(\"bir kenarı {} diğer kenarı {} olan dik üçgenin hipotenüsü: {}\".format(kenar_1, kenar_2, hypo))"
   ]
  },
  {
   "cell_type": "code",
   "execution_count": 39,
   "metadata": {},
   "outputs": [
    {
     "name": "stdout",
     "output_type": "stream",
     "text": [
      "Benim adım: Sedat yaşım: 32 mesleğim: data analyst\n"
     ]
    }
   ],
   "source": [
    "print(\"Benim adım: {} yaşım: {} mesleğim: {}\".format(name, age,job))"
   ]
  },
  {
   "cell_type": "code",
   "execution_count": 40,
   "metadata": {},
   "outputs": [
    {
     "name": "stdout",
     "output_type": "stream",
     "text": [
      "Benim adım: Sedat yaşım: 32 mesleğim: data analyst\n"
     ]
    }
   ],
   "source": [
    "print(\"Benim adım: {0} yaşım: {1} mesleğim: {2}\".format(name, age,job))"
   ]
  },
  {
   "cell_type": "code",
   "execution_count": 41,
   "metadata": {},
   "outputs": [
    {
     "name": "stdout",
     "output_type": "stream",
     "text": [
      "Benim adım: data analyst yaşım: Sedat mesleğim: 32\n"
     ]
    }
   ],
   "source": [
    "print(\"Benim adım: {2} yaşım: {0} mesleğim: {1}\".format(name, age,job))"
   ]
  },
  {
   "cell_type": "code",
   "execution_count": 42,
   "metadata": {},
   "outputs": [
    {
     "name": "stdout",
     "output_type": "stream",
     "text": [
      "a ile b nin toplamı: 15\n"
     ]
    }
   ],
   "source": [
    "a = 5\n",
    "b = 10\n",
    "print(\"a ile b nin toplamı: {}\".format(a + b))"
   ]
  },
  {
   "cell_type": "markdown",
   "metadata": {},
   "source": [
    "# input()"
   ]
  },
  {
   "cell_type": "code",
   "execution_count": 43,
   "metadata": {},
   "outputs": [
    {
     "data": {
      "text/plain": [
       "'32'"
      ]
     },
     "execution_count": 43,
     "metadata": {},
     "output_type": "execute_result"
    }
   ],
   "source": [
    "input(\"Lütfen yaşınızı girin\")"
   ]
  },
  {
   "cell_type": "code",
   "execution_count": 44,
   "metadata": {},
   "outputs": [],
   "source": [
    "age = input(\"Lütfen yaşınızı girin\")"
   ]
  },
  {
   "cell_type": "code",
   "execution_count": 45,
   "metadata": {},
   "outputs": [
    {
     "data": {
      "text/plain": [
       "'32'"
      ]
     },
     "execution_count": 45,
     "metadata": {},
     "output_type": "execute_result"
    }
   ],
   "source": [
    "age"
   ]
  },
  {
   "cell_type": "code",
   "execution_count": 46,
   "metadata": {},
   "outputs": [
    {
     "data": {
      "text/plain": [
       "str"
      ]
     },
     "execution_count": 46,
     "metadata": {},
     "output_type": "execute_result"
    }
   ],
   "source": [
    "type(age)"
   ]
  },
  {
   "cell_type": "code",
   "execution_count": 51,
   "metadata": {},
   "outputs": [
    {
     "name": "stdout",
     "output_type": "stream",
     "text": [
      "32\n"
     ]
    }
   ],
   "source": [
    "print(age)"
   ]
  },
  {
   "cell_type": "code",
   "execution_count": 47,
   "metadata": {},
   "outputs": [
    {
     "ename": "TypeError",
     "evalue": "unsupported operand type(s) for -: 'int' and 'str'",
     "output_type": "error",
     "traceback": [
      "\u001b[1;31m---------------------------------------------------------------------------\u001b[0m",
      "\u001b[1;31mTypeError\u001b[0m                                 Traceback (most recent call last)",
      "Cell \u001b[1;32mIn[47], line 1\u001b[0m\n\u001b[1;32m----> 1\u001b[0m \u001b[38;5;241;43m2024\u001b[39;49m\u001b[43m \u001b[49m\u001b[38;5;241;43m-\u001b[39;49m\u001b[43m \u001b[49m\u001b[43mage\u001b[49m\n",
      "\u001b[1;31mTypeError\u001b[0m: unsupported operand type(s) for -: 'int' and 'str'"
     ]
    }
   ],
   "source": [
    "2024 - age"
   ]
  },
  {
   "cell_type": "code",
   "execution_count": 48,
   "metadata": {},
   "outputs": [
    {
     "data": {
      "text/plain": [
       "1992"
      ]
     },
     "execution_count": 48,
     "metadata": {},
     "output_type": "execute_result"
    }
   ],
   "source": [
    "2024 - int(age)"
   ]
  },
  {
   "cell_type": "code",
   "execution_count": 49,
   "metadata": {},
   "outputs": [],
   "source": [
    "age_1 = int(input(\"Lütfen yaşınızı girin\"))"
   ]
  },
  {
   "cell_type": "code",
   "execution_count": null,
   "metadata": {},
   "outputs": [],
   "source": [
    "print(age)"
   ]
  },
  {
   "cell_type": "code",
   "execution_count": 50,
   "metadata": {},
   "outputs": [
    {
     "data": {
      "text/plain": [
       "int"
      ]
     },
     "execution_count": 50,
     "metadata": {},
     "output_type": "execute_result"
    }
   ],
   "source": [
    "type(age_1)"
   ]
  },
  {
   "cell_type": "code",
   "execution_count": 52,
   "metadata": {},
   "outputs": [
    {
     "ename": "ValueError",
     "evalue": "invalid literal for int() with base 10: 'otuz iki'",
     "output_type": "error",
     "traceback": [
      "\u001b[1;31m---------------------------------------------------------------------------\u001b[0m",
      "\u001b[1;31mValueError\u001b[0m                                Traceback (most recent call last)",
      "Cell \u001b[1;32mIn[52], line 1\u001b[0m\n\u001b[1;32m----> 1\u001b[0m age_2 \u001b[38;5;241m=\u001b[39m \u001b[38;5;28;43mint\u001b[39;49m\u001b[43m(\u001b[49m\u001b[38;5;28;43minput\u001b[39;49m\u001b[43m(\u001b[49m\u001b[38;5;124;43m\"\u001b[39;49m\u001b[38;5;124;43mLütfen yaşınızı girin\u001b[39;49m\u001b[38;5;124;43m\"\u001b[39;49m\u001b[43m)\u001b[49m\u001b[43m)\u001b[49m\n",
      "\u001b[1;31mValueError\u001b[0m: invalid literal for int() with base 10: 'otuz iki'"
     ]
    }
   ],
   "source": [
    "age_2 = int(input(\"Lütfen yaşınızı girin\"))"
   ]
  },
  {
   "cell_type": "code",
   "execution_count": 53,
   "metadata": {},
   "outputs": [],
   "source": [
    "age_3 = int(input(\"Lütfen yaşınızı girin. örnek: 32\"))"
   ]
  },
  {
   "cell_type": "markdown",
   "metadata": {},
   "source": [
    "kullanıcıdan yaşını isteyin ve doğum yılını bulun. f str yöntemini de kullanın çıktı alırken"
   ]
  },
  {
   "cell_type": "code",
   "execution_count": 54,
   "metadata": {},
   "outputs": [
    {
     "name": "stdout",
     "output_type": "stream",
     "text": [
      "Your birth year is : 1991\n"
     ]
    }
   ],
   "source": [
    "age = int(input(\"Please enter your age. smp: 35\"))\n",
    "\n",
    "print(f\"Your birth year is : {2024 - age}\")"
   ]
  },
  {
   "cell_type": "markdown",
   "metadata": {},
   "source": [
    "kullanıcıdan boy ve kilo bilgisini isteyin ve vki(bmi) değeri değerini bulun. "
   ]
  },
  {
   "cell_type": "code",
   "execution_count": 55,
   "metadata": {},
   "outputs": [
    {
     "ename": "TypeError",
     "evalue": "unsupported operand type(s) for ** or pow(): 'str' and 'int'",
     "output_type": "error",
     "traceback": [
      "\u001b[1;31m---------------------------------------------------------------------------\u001b[0m",
      "\u001b[1;31mTypeError\u001b[0m                                 Traceback (most recent call last)",
      "Cell \u001b[1;32mIn[55], line 4\u001b[0m\n\u001b[0;32m      1\u001b[0m kilo \u001b[38;5;241m=\u001b[39m \u001b[38;5;28minput\u001b[39m(\u001b[38;5;124m\"\u001b[39m\u001b[38;5;124mLütfen kilonuzu giriniz.\u001b[39m\u001b[38;5;124m\"\u001b[39m)\n\u001b[0;32m      2\u001b[0m boy \u001b[38;5;241m=\u001b[39m \u001b[38;5;28minput\u001b[39m(\u001b[38;5;124m\"\u001b[39m\u001b[38;5;124mLütfen boyunuzu giriniz. \u001b[39m\u001b[38;5;124m\"\u001b[39m)\n\u001b[1;32m----> 4\u001b[0m vki \u001b[38;5;241m=\u001b[39m kilo \u001b[38;5;241m/\u001b[39m (\u001b[43mboy\u001b[49m\u001b[43m \u001b[49m\u001b[38;5;241;43m*\u001b[39;49m\u001b[38;5;241;43m*\u001b[39;49m\u001b[43m \u001b[49m\u001b[38;5;241;43m2\u001b[39;49m)\n\u001b[0;32m      6\u001b[0m \u001b[38;5;28mprint\u001b[39m(vki)\n",
      "\u001b[1;31mTypeError\u001b[0m: unsupported operand type(s) for ** or pow(): 'str' and 'int'"
     ]
    }
   ],
   "source": [
    "kilo = input(\"Lütfen kilonuzu giriniz.\") # inputla alınan değerler stringtir. dönüştürülüp kullanmak gerekir. \n",
    "boy = input(\"Lütfen boyunuzu giriniz. \")\n",
    "\n",
    "vki = kilo / (boy ** 2)\n",
    "\n",
    "print(vki)"
   ]
  },
  {
   "cell_type": "code",
   "execution_count": 56,
   "metadata": {},
   "outputs": [
    {
     "name": "stdout",
     "output_type": "stream",
     "text": [
      "29.036737785633125\n"
     ]
    }
   ],
   "source": [
    "kilo = int(input(\"Lütfen kilonuzu giriniz. kg cinsinden. örn: 85\")) \n",
    "boy = int(input(\"Lütfen boyunuzu giriniz. cm cinsinden. örn: 178\")) / 100 # m cinsine çevirmiş olduk. \n",
    "\n",
    "vki = kilo / (boy ** 2)\n",
    "\n",
    "print(vki)"
   ]
  },
  {
   "cell_type": "code",
   "execution_count": 57,
   "metadata": {},
   "outputs": [
    {
     "name": "stdout",
     "output_type": "stream",
     "text": [
      "Kilonuz: 92 kg. Boyunuz: 1.78 m. Vki değeriniz: 29.036737785633125\n"
     ]
    }
   ],
   "source": [
    "kilo = int(input(\"Lütfen kilonuzu giriniz. kg cinsinden. örn: 85\")) \n",
    "boy = int(input(\"Lütfen boyunuzu giriniz. cm cinsinden. örn: 178\")) / 100 # m cinsine çevirmiş olduk. \n",
    "\n",
    "vki = kilo / (boy ** 2)\n",
    "\n",
    "print(f\"Kilonuz: {kilo} kg. Boyunuz: {boy} m. Vki değeriniz: {vki}\")"
   ]
  },
  {
   "cell_type": "code",
   "execution_count": 69,
   "metadata": {},
   "outputs": [
    {
     "name": "stdout",
     "output_type": "stream",
     "text": [
      "Kilonuz: 92 kg. Boyunuz: 1.78 m. Vki değeriniz: 29.04\n"
     ]
    }
   ],
   "source": [
    "kilo = int(input(\"Lütfen kilonuzu giriniz. kg cinsinden. örn: 85\")) \n",
    "boy = int(input(\"Lütfen boyunuzu giriniz. cm cinsinden. örn: 178\")) / 100 # m cinsine çevirmiş olduk. \n",
    "\n",
    "vki = kilo / (boy ** 2)\n",
    "\n",
    "print(f\"Kilonuz: {kilo} kg. Boyunuz: {boy} m. Vki değeriniz: {round(vki,2)}\")"
   ]
  },
  {
   "cell_type": "code",
   "execution_count": null,
   "metadata": {},
   "outputs": [],
   "source": []
  },
  {
   "cell_type": "code",
   "execution_count": null,
   "metadata": {},
   "outputs": [],
   "source": []
  }
 ],
 "metadata": {
  "kernelspec": {
   "display_name": "base",
   "language": "python",
   "name": "python3"
  },
  "language_info": {
   "codemirror_mode": {
    "name": "ipython",
    "version": 3
   },
   "file_extension": ".py",
   "mimetype": "text/x-python",
   "name": "python",
   "nbconvert_exporter": "python",
   "pygments_lexer": "ipython3",
   "version": "3.10.9"
  }
 },
 "nbformat": 4,
 "nbformat_minor": 2
}
